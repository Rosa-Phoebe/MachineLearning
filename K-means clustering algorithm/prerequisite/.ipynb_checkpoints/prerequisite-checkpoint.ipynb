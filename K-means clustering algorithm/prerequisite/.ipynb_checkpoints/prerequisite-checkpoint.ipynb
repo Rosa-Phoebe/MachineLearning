{
 "cells": [
  {
   "cell_type": "markdown",
   "metadata": {},
   "source": [
    "**Broadcasting** is a powerful mechanism that allows numpy to work with arrays of different shapes when performing arithmetic operations. Frequently we have a smaller array and a larger array, and we want to use the smaller array multiple times to perform some operation on the larger array.\n",
    "For example, suppose that we want to add a constant vector to each row of a matrix. We could do it like this:"
   ]
  },
  {
   "cell_type": "code",
   "execution_count": 5,
   "metadata": {
    "collapsed": false
   },
   "outputs": [
    {
     "name": "stdout",
     "output_type": "stream",
     "text": [
      "[[ 1  2  3]\n",
      " [ 4  5  6]\n",
      " [ 7  8  9]\n",
      " [10 11 12]]\n",
      "[[ 2  2  4]\n",
      " [ 5  5  7]\n",
      " [ 8  8 10]\n",
      " [11 11 13]]\n"
     ]
    }
   ],
   "source": [
    "import numpy as np\n",
    "\n",
    "# We will add the vector v to each row of the matrix x,\n",
    "# storing the result in the matrix y\n",
    "x = np.array([[1, 2, 3], [4, 5, 6], [7, 8, 9], [10, 11, 12]])\n",
    "v = np.array([1, 0, 1])\n",
    "\n",
    "# Return a new array with the same shape and type as a given array\n",
    "# This function does not initialize the returned array\n",
    "y = np.empty_like(x)\n",
    "print(y)\n",
    "\n",
    "# Add the vector v to each row of the matrix x with an explicit loop\n",
    "for i in range(4):\n",
    "    y[i, :] = x[i, :] + v\n",
    "    \n",
    "print(y)"
   ]
  },
  {
   "cell_type": "markdown",
   "metadata": {},
   "source": [
    "This works; however when the matrix x is very large, computing an explicit loop in Python could be slow. Note that adding the vector v to each row of the matrix x is equivalent of forming a matrix vv by stacking multiple copies of v vectically, then perform elementwise summation of x and vv. We could implement this approach like this:"
   ]
  },
  {
   "cell_type": "code",
   "execution_count": 6,
   "metadata": {
    "collapsed": false
   },
   "outputs": [
    {
     "name": "stdout",
     "output_type": "stream",
     "text": [
      "[[1 0 1]\n",
      " [1 0 1]\n",
      " [1 0 1]\n",
      " [1 0 1]]\n",
      "[[ 2  2  4]\n",
      " [ 5  5  7]\n",
      " [ 8  8 10]\n",
      " [11 11 13]]\n"
     ]
    }
   ],
   "source": [
    "import numpy as np\n",
    "\n",
    "# We will add the vector v to each row of the matrix x,\n",
    "# storing the result in the matrix y\n",
    "x = np.array([[1, 2, 3], [4, 5, 6], [7, 8, 9], [10, 11, 12]])\n",
    "v = np.array([1, 0, 1])\n",
    "vv = np.tile(v, (4, 1))    # Stack 4 copies of v on top of each other\n",
    "print(vv)\n",
    "\n",
    "y = x + vv  # Add x and vv elementwise\n",
    "print(y)"
   ]
  },
  {
   "cell_type": "markdown",
   "metadata": {},
   "source": [
    "**Numpy broadcasting** allows us to perform this computation without actually creating multiple copies of v. Consider this version, using **broadcasting**:"
   ]
  },
  {
   "cell_type": "code",
   "execution_count": 10,
   "metadata": {
    "collapsed": false
   },
   "outputs": [
    {
     "name": "stdout",
     "output_type": "stream",
     "text": [
      "x shape:  (4, 3)\n",
      "v shape:  (3,)\n",
      "[[ 2  2  4]\n",
      " [ 5  5  7]\n",
      " [ 8  8 10]\n",
      " [11 11 13]]\n"
     ]
    }
   ],
   "source": [
    "import numpy as np\n",
    "\n",
    "# We will add the vector v to each row of the matrix x,\n",
    "# storing the result in the matrix y\n",
    "x = np.array([[1, 2, 3], [4, 5, 6], [7, 8, 9], [10, 11, 12]])\n",
    "print(\"x shape: \",x.shape)\n",
    "v = np.array([1, 0, 1])\n",
    "print(\"v shape: \",v.shape)\n",
    "y = x + v  # Add v to each row of x using broadcasting\n",
    "print(y)"
   ]
  },
  {
   "cell_type": "markdown",
   "metadata": {},
   "source": [
    "The line _y_ = _x_ + _v_ works even though _x_ has shape (4, 3) and _v_ has shape(3,) due to broadcasting; this line works as if _v_ actually had shape (4, 3), where each row was a copy of _v_, and the sum was performed elementwise."
   ]
  },
  {
   "cell_type": "markdown",
   "metadata": {
    "collapsed": true
   },
   "source": [
    "**Broadcasting** two arrays together follows these rules:\n",
    "1. If the arrays do not have the same rank, pretend the shape of the lower rank array with 1s until both shapes have the the same length,\n",
    "2. The two arrays are said to be _compatible_ in a dimension if they have the same size in the dimension, or if one of the arrays has size 1 in that dimension.\n",
    "3. The array can be broadcast together if they are _compatible_ in all dimensions.\n",
    "4. After broadcasting, each array behaves as if it had shape equal to the elementwise maximum of shapes of the two input arrays.\n",
    "5. In any dimension where one array has size 1 and the other array had size greater than 1, the first array behaves as if it were copied along that dimension."
   ]
  },
  {
   "cell_type": "markdown",
   "metadata": {},
   "source": [
    "Functions that support **broadcasting** are known as _universal functions_. **Broadcasting** typically makes your code more concise and faster, so you should strive to ust it where possible. Here are some applications of broadcasting:"
   ]
  },
  {
   "cell_type": "code",
   "execution_count": 14,
   "metadata": {
    "collapsed": false
   },
   "outputs": [
    {
     "name": "stdout",
     "output_type": "stream",
     "text": [
      "v has shape:  (3,)\n",
      "w has shape:  (2,)\n",
      "[[ 4  5]\n",
      " [ 8 10]\n",
      " [12 15]]\n",
      "\n",
      "\n",
      "[[ 5  6  7]\n",
      " [ 9 10 11]]\n",
      "\n",
      "\n",
      "[[ 5  6  7]\n",
      " [ 9 10 11]]\n",
      "\n",
      "\n",
      "[[ 2  4  6]\n",
      " [ 8 10 12]]\n"
     ]
    }
   ],
   "source": [
    "import numpy as np\n",
    "\n",
    "# Compute outer product of vectors\n",
    "v = np.array([1, 2, 3])\n",
    "print(\"v has shape: \",v.shape)\n",
    "w = np.array([4, 5])\n",
    "print(\"w has shape: \",w.shape)\n",
    "\n",
    "# To compute an outer product, we first reshape v to be a column vector of shape (3, 1);\n",
    "# We can then broadcast it against w to yield an output of shape (3, 2), which is the outer\n",
    "# product of v and w;\n",
    "# v : [[1],    ->     [[1, 1],\n",
    "#      [2],            [2, 2],\n",
    "#      [3]]            [3, 3]]\n",
    "# w : [4, 5]   ->     [[4, 5],\n",
    "#                      [4, 5],\n",
    "#                      [4, 5]]\n",
    "# Finally, the reshape matrices multiply elementwise, then get the outer product.\n",
    "print(np.reshape(v, (3, 1)) * w)\n",
    "print(\"\\n\")\n",
    "\n",
    "# Add a vector to each column of a matrix\n",
    "# x has shape (2, 3) and w has shape (2,).\n",
    "# If we transpose x then it has shape (3, 2) and can be broadcast against w to yield a result\n",
    "# of shape (3, 2); transposing this result yields the final result of shape (2, 3) which is the\n",
    "# matrix x with the vector w added to each column. Give the following matrix:\n",
    "x = np.array([[1, 2, 3], [4, 5, 6]])\n",
    "print((x.T + w).T)\n",
    "print(\"\\n\")\n",
    "\n",
    "# Another solution is to reshape w to be a column vector of shape (2, 1);\n",
    "# we can then broadcast it directly against x to produce the same output.\n",
    "print(x + np.reshape(w, (2, 1)))\n",
    "print(\"\\n\")\n",
    "\n",
    "# Multiply a matrix by a constant:\n",
    "# x has shape (2, 3). Numpy treats scalars as arrays of shape ();\n",
    "# these can be broadcast together to shape (2, 3), producing the\n",
    "# following array:\n",
    "print(x * 2)"
   ]
  },
  {
   "cell_type": "markdown",
   "metadata": {},
   "source": [
    "## Image operations\n",
    "Numpy provides a high-performance multidimensional array and basic tools to compute with and manipulate these arrays. SciPy builds on this, and provides a large number of functions that operate on numpy arrays and are useful for different types of scientific and engineering applications.\n",
    "SciPy provides some basic functions to work with images. For example, it has functions to read images from disk into numpy arrays, to write numpy arrays to disk as images, and to resize images. Here is a simple example that showcases these functions:"
   ]
  },
  {
   "cell_type": "code",
   "execution_count": 16,
   "metadata": {
    "collapsed": false
   },
   "outputs": [
    {
     "name": "stdout",
     "output_type": "stream",
     "text": [
      "uint8 (400, 248, 3)\n"
     ]
    }
   ],
   "source": [
    "# Method 1 : scipy\n",
    "from scipy.misc import imread, imsave, imresize\n",
    "\n",
    "# Read an JPEG image into a numpy array\n",
    "img = imread('cat.jpg')\n",
    "print(img.dtype, img.shape)\n",
    "\n",
    "# We can tint the image by scaling each of the color channels by a different scalar constant.\n",
    "# The image has shape (400, 248, 3); we multiply it by the array [1, 0.95, 0.9] of shape (3,);\n",
    "# numpy broadcasting means that this leaves the read channel unchanged, and multiplies the\n",
    "# green and blue channels by 0.95 and 0.9 respectively.\n",
    "img_tinted = img * [1, 0.95, 0.9]\n",
    "\n",
    "# Resize the tinted image to be 300 by 300 pixels.\n",
    "img_tinted = imresize(img_tinted, (300, 300))\n",
    "\n",
    "# Write the tinted image back to disk\n",
    "imsave('cat_tinted.jpg', img_tinted)"
   ]
  },
  {
   "cell_type": "code",
   "execution_count": 11,
   "metadata": {
    "collapsed": false,
    "scrolled": true
   },
   "outputs": [
    {
     "data": {
      "image/png": "[encoded data removed]",
      "text/plain": [
       "<matplotlib.figure.Figure at 0x80de080>"
      ]
     },
     "metadata": {},
     "output_type": "display_data"
    }
   ],
   "source": [
    "# Method 2 : matplotlib\n",
    "# turn on inline plotting, where plot graphics will appear in notebook\n",
    "%matplotlib inline\n",
    "import matplotlib.pyplot as plt\n",
    "import matplotlib.image as mpimg\n",
    "import numpy as np\n",
    "\n",
    "#1. Importing image data into Numpy arrays\n",
    "# Note: Natively, matplotlib only supports PNG images.\n",
    "img = mpimg.imread('stinkbug.png')\n",
    "\n",
    "#2. Plotting numpy arrays as images\n",
    "imgplot = plt.imshow(img)"
   ]
  },
  {
   "cell_type": "code",
   "execution_count": 16,
   "metadata": {
    "collapsed": false
   },
   "outputs": [
    {
     "name": "stdout",
     "output_type": "stream",
     "text": [
      "[[1 2 3]\n",
      " [4 5 6]]\n"
     ]
    },
    {
     "data": {
      "text/plain": [
       "array([[1, 2],\n",
       "       [3, 4],\n",
       "       [5, 6]])"
      ]
     },
     "execution_count": 16,
     "metadata": {},
     "output_type": "execute_result"
    }
   ],
   "source": [
    "# numpy.reshape usage\n",
    "# numpy.reshape(a, newshape, order='C'); newshape - int or tuple of ints\n",
    "# Returns: Gives a new shape to an array without changing its data.\n",
    "import numpy as np\n",
    "\n",
    "# If newshape is an integer, then the result will be a 1-D array of that length.\n",
    "a = np.array([[1, 2, 3], [4, 5, 6]])\n",
    "print(a)  # 2*3\n",
    "np.reshape(a, 6)  # 6*1\n",
    "\n",
    "# One shape dimension can be -1. In this case, the value is inferred from the\n",
    "# length of the array and remaining dimensions.\n",
    "np.reshape(a, (3, -1))  # the unspecified value is inferred to be 2"
   ]
  },
  {
   "cell_type": "code",
   "execution_count": 25,
   "metadata": {
    "collapsed": false
   },
   "outputs": [
    {
     "name": "stdout",
     "output_type": "stream",
     "text": [
      "With replacement:  [4 2 4]\n",
      "Without replacement:  [0 3 1]\n"
     ]
    }
   ],
   "source": [
    "# numpy.random.choice usage\n",
    "# numpy.random.choice(a, size=None, replace=True, p=None);\n",
    "# Parameters: a - 1-D array-like or int;\n",
    "#             size - Output shape, int or tuple of ints, optional;\n",
    "#             replace - boolean. Whether the sample is with or without replacement;\n",
    "# Returns: single item or ndarray (The generated random samples)\n",
    "\n",
    "# if a is an ndarray, a random sample is generated from its elements; if a is an int,\n",
    "# the random sample is generated as if a were np.arange(a)\n",
    "import numpy as np\n",
    "a = np.random.choice(5, 3)                   # Generate a uniform random sample from np.arange(5) of size 3\n",
    "print(\"With replacement: \", a)\n",
    "b = np.random.choice(5, 3, replace=False)    # Grenerate a uniform random sample from np.arange(5) of size 3 without replacement\n",
    "print(\"Without replacement: \", b)"
   ]
  },
  {
   "cell_type": "code",
   "execution_count": 33,
   "metadata": {
    "collapsed": false
   },
   "outputs": [
    {
     "name": "stdout",
     "output_type": "stream",
     "text": [
      "[[[-0.20393052 -0.39423111  0.42019069 -0.16267422]\n",
      "  [-0.41349457  0.7459167  -1.20889789 -1.68928768]\n",
      "  [-0.86977523  0.77261843  0.93330926  1.64265992]]\n",
      "\n",
      " [[-0.14444171  0.32533151 -1.99442345 -0.63407947]\n",
      "  [-1.97389066 -0.39062069  1.11000041  0.55652505]\n",
      "  [-0.71894969 -1.52259797  0.90694713 -0.1782555 ]]\n",
      "\n",
      " [[-0.80783149 -1.21829091 -0.64359218  0.9816439 ]\n",
      "  [-0.75417296  1.15056506  0.11878866  0.70329232]\n",
      "  [ 0.21978948 -0.23073727  0.62275215 -3.30971575]]\n",
      "\n",
      " [[-1.09161078 -1.67136739 -2.14255325  0.89239897]\n",
      "  [-1.33771012  1.54094929 -0.44432065 -0.0192752 ]\n",
      "  [ 0.1565242   1.31069171 -1.22990872  0.45187713]]\n",
      "\n",
      " [[ 0.36607727  0.77163796  0.83242594 -0.68130063]\n",
      "  [ 0.10560947 -1.27461039 -0.76220453  0.82904784]\n",
      "  [ 2.40993341 -2.09484227  0.63182769 -1.48293065]]\n",
      "\n",
      " [[ 0.8326877   1.50323788 -1.68398901 -0.94413247]\n",
      "  [ 0.32677936  0.64943673  0.54139364 -1.55817535]\n",
      "  [ 0.8450871   0.54303768 -2.17308024  0.70063397]]\n",
      "\n",
      " [[-1.29487766  1.72179934  0.06609518 -0.96372985]\n",
      "  [ 0.01875589  0.6389201  -0.25217516 -0.67469086]\n",
      "  [-0.14433094 -0.22799637 -1.48999782  0.10440037]]\n",
      "\n",
      " [[ 1.06839421 -1.06642967 -1.05795416 -1.87726713]\n",
      "  [-0.2677164  -1.57052877 -0.69695997  1.02991853]\n",
      "  [-0.66823338  0.35054204 -0.50422493 -0.24687881]]\n",
      "\n",
      " [[-1.9430482   0.15780758 -0.59987483 -1.5532769 ]\n",
      "  [ 0.08409695 -0.54774747 -0.66377396 -0.22820942]\n",
      "  [ 1.18755178 -0.02153268 -0.91373875 -1.72841399]]\n",
      "\n",
      " [[-0.73948515  0.12165069 -1.30045444  1.33804652]\n",
      "  [ 1.05998155  0.11226893 -0.057393    0.0377175 ]\n",
      "  [-0.8668316  -1.16329543  0.24047616  0.20427727]]]\n",
      "[[[-0.20393052 -0.39423111  0.42019069 -0.16267422]\n",
      "  [-0.14444171  0.32533151 -1.99442345 -0.63407947]\n",
      "  [-0.80783149 -1.21829091 -0.64359218  0.9816439 ]\n",
      "  [-1.09161078 -1.67136739 -2.14255325  0.89239897]\n",
      "  [ 0.36607727  0.77163796  0.83242594 -0.68130063]\n",
      "  [ 0.8326877   1.50323788 -1.68398901 -0.94413247]\n",
      "  [-1.29487766  1.72179934  0.06609518 -0.96372985]\n",
      "  [ 1.06839421 -1.06642967 -1.05795416 -1.87726713]\n",
      "  [-1.9430482   0.15780758 -0.59987483 -1.5532769 ]\n",
      "  [-0.73948515  0.12165069 -1.30045444  1.33804652]]\n",
      "\n",
      " [[-0.41349457  0.7459167  -1.20889789 -1.68928768]\n",
      "  [-1.97389066 -0.39062069  1.11000041  0.55652505]\n",
      "  [-0.75417296  1.15056506  0.11878866  0.70329232]\n",
      "  [-1.33771012  1.54094929 -0.44432065 -0.0192752 ]\n",
      "  [ 0.10560947 -1.27461039 -0.76220453  0.82904784]\n",
      "  [ 0.32677936  0.64943673  0.54139364 -1.55817535]\n",
      "  [ 0.01875589  0.6389201  -0.25217516 -0.67469086]\n",
      "  [-0.2677164  -1.57052877 -0.69695997  1.02991853]\n",
      "  [ 0.08409695 -0.54774747 -0.66377396 -0.22820942]\n",
      "  [ 1.05998155  0.11226893 -0.057393    0.0377175 ]]\n",
      "\n",
      " [[-0.86977523  0.77261843  0.93330926  1.64265992]\n",
      "  [-0.71894969 -1.52259797  0.90694713 -0.1782555 ]\n",
      "  [ 0.21978948 -0.23073727  0.62275215 -3.30971575]\n",
      "  [ 0.1565242   1.31069171 -1.22990872  0.45187713]\n",
      "  [ 2.40993341 -2.09484227  0.63182769 -1.48293065]\n",
      "  [ 0.8450871   0.54303768 -2.17308024  0.70063397]\n",
      "  [-0.14433094 -0.22799637 -1.48999782  0.10440037]\n",
      "  [-0.66823338  0.35054204 -0.50422493 -0.24687881]\n",
      "  [ 1.18755178 -0.02153268 -0.91373875 -1.72841399]\n",
      "  [-0.8668316  -1.16329543  0.24047616  0.20427727]]]\n"
     ]
    }
   ],
   "source": [
    "# numpy.stack usage\n",
    "# numpy.stack(arrays, axis=0); Join a sequence of arrays along a new axis\n",
    "# Returns: The stacked array has one more dimension than the input arrays.\n",
    "arrays = [np.random.randn(3, 4) for _ in range(10)]  # list of numpy arrays\n",
    "print(\"The axis=0: \")\n",
    "print(np.stack(arrays, axis=0))\n",
    "print(\"The axis=1: \")\n",
    "print(np.stack(arrays, axis=1))"
   ]
  },
  {
   "cell_type": "code",
   "execution_count": null,
   "metadata": {
    "collapsed": true
   },
   "outputs": [],
   "source": []
  }
 ],
 "metadata": {
  "anaconda-cloud": {},
  "kernelspec": {
   "display_name": "Python [default]",
   "language": "python",
   "name": "python3"
  },
  "language_info": {
   "codemirror_mode": {
    "name": "ipython",
    "version": 3
   },
   "file_extension": ".py",
   "mimetype": "text/x-python",
   "name": "python",
   "nbconvert_exporter": "python",
   "pygments_lexer": "ipython3",
   "version": "3.5.2"
  }
 },
 "nbformat": 4,
 "nbformat_minor": 1
}
