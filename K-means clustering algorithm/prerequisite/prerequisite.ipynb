{
 "cells": [
  {
   "cell_type": "markdown",
   "metadata": {},
   "source": [
    "**Broadcasting** is a powerful mechanism that allows numpy to work with arrays of different shapes when performing arithmetic operations. Frequently we have a smaller array and a larger array, and we want to use the smaller array multiple times to perform some operation on the larger array.\n",
    "For example, suppose that we want to add a constant vector to each row of a matrix. We could do it like this:"
   ]
  },
  {
   "cell_type": "code",
   "execution_count": 5,
   "metadata": {
    "collapsed": false
   },
   "outputs": [
    {
     "name": "stdout",
     "output_type": "stream",
     "text": [
      "[[ 1  2  3]\n",
      " [ 4  5  6]\n",
      " [ 7  8  9]\n",
      " [10 11 12]]\n",
      "[[ 2  2  4]\n",
      " [ 5  5  7]\n",
      " [ 8  8 10]\n",
      " [11 11 13]]\n"
     ]
    }
   ],
   "source": [
    "import numpy as np\n",
    "\n",
    "# We will add the vector v to each row of the matrix x,\n",
    "# storing the result in the matrix y\n",
    "x = np.array([[1, 2, 3], [4, 5, 6], [7, 8, 9], [10, 11, 12]])\n",
    "v = np.array([1, 0, 1])\n",
    "\n",
    "# Return a new array with the same shape and type as a given array\n",
    "# This function does not initialize the returned array\n",
    "y = np.empty_like(x)\n",
    "print(y)\n",
    "\n",
    "# Add the vector v to each row of the matrix x with an explicit loop\n",
    "for i in range(4):\n",
    "    y[i, :] = x[i, :] + v\n",
    "    \n",
    "print(y)"
   ]
  },
  {
   "cell_type": "markdown",
   "metadata": {},
   "source": [
    "This works; however when the matrix x is very large, computing an explicit loop in Python could be slow. Note that adding the vector v to each row of the matrix x is equivalent of forming a matrix vv by stacking multiple copies of v vectically, then perform elementwise summation of x and vv. We could implement this approach like this:"
   ]
  },
  {
   "cell_type": "code",
   "execution_count": 6,
   "metadata": {
    "collapsed": false
   },
   "outputs": [
    {
     "name": "stdout",
     "output_type": "stream",
     "text": [
      "[[1 0 1]\n",
      " [1 0 1]\n",
      " [1 0 1]\n",
      " [1 0 1]]\n",
      "[[ 2  2  4]\n",
      " [ 5  5  7]\n",
      " [ 8  8 10]\n",
      " [11 11 13]]\n"
     ]
    }
   ],
   "source": [
    "import numpy as np\n",
    "\n",
    "# We will add the vector v to each row of the matrix x,\n",
    "# storing the result in the matrix y\n",
    "x = np.array([[1, 2, 3], [4, 5, 6], [7, 8, 9], [10, 11, 12]])\n",
    "v = np.array([1, 0, 1])\n",
    "vv = np.tile(v, (4, 1))    # Stack 4 copies of v on top of each other\n",
    "print(vv)\n",
    "\n",
    "y = x + vv  # Add x and vv elementwise\n",
    "print(y)"
   ]
  },
  {
   "cell_type": "markdown",
   "metadata": {},
   "source": [
    "**Numpy broadcasting** allows us to perform this computation without actually creating multiple copies of v. Consider this version, using **broadcasting**:"
   ]
  },
  {
   "cell_type": "code",
   "execution_count": 10,
   "metadata": {
    "collapsed": false
   },
   "outputs": [
    {
     "name": "stdout",
     "output_type": "stream",
     "text": [
      "x shape:  (4, 3)\n",
      "v shape:  (3,)\n",
      "[[ 2  2  4]\n",
      " [ 5  5  7]\n",
      " [ 8  8 10]\n",
      " [11 11 13]]\n"
     ]
    }
   ],
   "source": [
    "import numpy as np\n",
    "\n",
    "# We will add the vector v to each row of the matrix x,\n",
    "# storing the result in the matrix y\n",
    "x = np.array([[1, 2, 3], [4, 5, 6], [7, 8, 9], [10, 11, 12]])\n",
    "print(\"x shape: \",x.shape)\n",
    "v = np.array([1, 0, 1])\n",
    "print(\"v shape: \",v.shape)\n",
    "y = x + v  # Add v to each row of x using broadcasting\n",
    "print(y)"
   ]
  },
  {
   "cell_type": "markdown",
   "metadata": {},
   "source": [
    "The line _y_ = _x_ + _v_ works even though _x_ has shape (4, 3) and _v_ has shape(3,) due to broadcasting; this line works as if _v_ actually had shape (4, 3), where each row was a copy of _v_, and the sum was performed elementwise."
   ]
  },
  {
   "cell_type": "markdown",
   "metadata": {
    "collapsed": true
   },
   "source": [
    "**Broadcasting** two arrays together follows these rules:\n",
    "1. If the arrays do not have the same rank, pretend the shape of the lower rank array with 1s until both shapes have the the same length,\n",
    "2. The two arrays are said to be _compatible_ in a dimension if they have the same size in the dimension, or if one of the arrays has size 1 in that dimension.\n",
    "3. The array can be broadcast together if they are _compatible_ in all dimensions.\n",
    "4. After broadcasting, each array behaves as if it had shape equal to the elementwise maximum of shapes of the two input arrays.\n",
    "5. In any dimension where one array has size 1 and the other array had size greater than 1, the first array behaves as if it were copied along that dimension."
   ]
  },
  {
   "cell_type": "markdown",
   "metadata": {},
   "source": [
    "Functions that support **broadcasting** are known as _universal functions_. **Broadcasting** typically makes your code more concise and faster, so you should strive to ust it where possible. Here are some applications of broadcasting:"
   ]
  },
  {
   "cell_type": "code",
   "execution_count": 14,
   "metadata": {
    "collapsed": false
   },
   "outputs": [
    {
     "name": "stdout",
     "output_type": "stream",
     "text": [
      "v has shape:  (3,)\n",
      "w has shape:  (2,)\n",
      "[[ 4  5]\n",
      " [ 8 10]\n",
      " [12 15]]\n",
      "\n",
      "\n",
      "[[ 5  6  7]\n",
      " [ 9 10 11]]\n",
      "\n",
      "\n",
      "[[ 5  6  7]\n",
      " [ 9 10 11]]\n",
      "\n",
      "\n",
      "[[ 2  4  6]\n",
      " [ 8 10 12]]\n"
     ]
    }
   ],
   "source": [
    "import numpy as np\n",
    "\n",
    "# Compute outer product of vectors\n",
    "v = np.array([1, 2, 3])\n",
    "print(\"v has shape: \",v.shape)\n",
    "w = np.array([4, 5])\n",
    "print(\"w has shape: \",w.shape)\n",
    "\n",
    "# To compute an outer product, we first reshape v to be a column vector of shape (3, 1);\n",
    "# We can then broadcast it against w to yield an output of shape (3, 2), which is the outer\n",
    "# product of v and w;\n",
    "# v : [[1],    ->     [[1, 1],\n",
    "#      [2],            [2, 2],\n",
    "#      [3]]            [3, 3]]\n",
    "# w : [4, 5]   ->     [[4, 5],\n",
    "#                      [4, 5],\n",
    "#                      [4, 5]]\n",
    "# Finally, the reshape matrices multiply elementwise, then get the outer product.\n",
    "print(np.reshape(v, (3, 1)) * w)\n",
    "print(\"\\n\")\n",
    "\n",
    "# Add a vector to each column of a matrix\n",
    "# x has shape (2, 3) and w has shape (2,).\n",
    "# If we transpose x then it has shape (3, 2) and can be broadcast against w to yield a result\n",
    "# of shape (3, 2); transposing this result yields the final result of shape (2, 3) which is the\n",
    "# matrix x with the vector w added to each column. Give the following matrix:\n",
    "x = np.array([[1, 2, 3], [4, 5, 6]])\n",
    "print((x.T + w).T)\n",
    "print(\"\\n\")\n",
    "\n",
    "# Another solution is to reshape w to be a column vector of shape (2, 1);\n",
    "# we can then broadcast it directly against x to produce the same output.\n",
    "print(x + np.reshape(w, (2, 1)))\n",
    "print(\"\\n\")\n",
    "\n",
    "# Multiply a matrix by a constant:\n",
    "# x has shape (2, 3). Numpy treats scalars as arrays of shape ();\n",
    "# these can be broadcast together to shape (2, 3), producing the\n",
    "# following array:\n",
    "print(x * 2)"
   ]
  },
  {
   "cell_type": "markdown",
   "metadata": {},
   "source": [
    "## Image operations\n",
    "Numpy provides a high-performance multidimensional array and basic tools to compute with and manipulate these arrays. SciPy builds on this, and provides a large number of functions that operate on numpy arrays and are useful for different types of scientific and engineering applications.\n",
    "SciPy provides some basic functions to work with images. For example, it has functions to read images from disk into numpy arrays, to write numpy arrays to disk as images, and to resize images. Here is a simple example that showcases these functions:"
   ]
  },
  {
   "cell_type": "code",
   "execution_count": 16,
   "metadata": {
    "collapsed": false
   },
   "outputs": [
    {
     "name": "stdout",
     "output_type": "stream",
     "text": [
      "uint8 (400, 248, 3)\n"
     ]
    }
   ],
   "source": [
    "from scipy.misc import imread, imsave, imresize\n",
    "\n",
    "# Read an JPEG image into a numpy array\n",
    "img = imread('cat.jpg')\n",
    "print(img.dtype, img.shape)\n",
    "\n",
    "# We can tint the image by scaling each of the color channels by a different scalar constant.\n",
    "# The image has shape (400, 248, 3); we multiply it by the array [1, 0.95, 0.9] of shape (3,);\n",
    "# numpy broadcasting means that this leaves the read channel unchanged, and multiplies the\n",
    "# green and blue channels by 0.95 and 0.9 respectively.\n",
    "img_tinted = img * [1, 0.95, 0.9]\n",
    "\n",
    "# Resize the tinted image to be 300 by 300 pixels.\n",
    "img_tinted = imresize(img_tinted, (300, 300))\n",
    "\n",
    "# Write the tinted image back to disk\n",
    "imsave('cat_tinted.jpg', img_tinted)"
   ]
  },
  {
   "cell_type": "code",
   "execution_count": null,
   "metadata": {
    "collapsed": true
   },
   "outputs": [],
   "source": []
  }
 ],
 "metadata": {
  "anaconda-cloud": {},
  "kernelspec": {
   "display_name": "Python [default]",
   "language": "python",
   "name": "python3"
  },
  "language_info": {
   "codemirror_mode": {
    "name": "ipython",
    "version": 3
   },
   "file_extension": ".py",
   "mimetype": "text/x-python",
   "name": "python",
   "nbconvert_exporter": "python",
   "pygments_lexer": "ipython3",
   "version": "3.5.2"
  }
 },
 "nbformat": 4,
 "nbformat_minor": 1
}
