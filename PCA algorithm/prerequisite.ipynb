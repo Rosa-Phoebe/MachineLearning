{
 "cells": [
  {
   "cell_type": "markdown",
   "metadata": {},
   "source": [
    "# A primer on using LaTex in Jupyter Notebook\n",
    "LaTex(pronounced Lah-Tek) is the standard for typesetting technichal and scientific documents. With LaTex, you can write any document but it also includes the capability to write out mathematical notation. MathJax uses the LaTex symbols to render math directly in the browser. This is an extremely useful feature of Jupyter notebooks, but many people lack the LaTex experience to take advantage of it. So here I'm going to provide a primer on writing mathematical notation in LaTex.\n",
    "## Math typesetting basics\n",
    "There are two modes for writing LaTex in notebooks, **inline** and **display**. **Inline expressions** are rendered inline with text, while **displayed expressions** are on their own lines. **Inline mode** look like this: and **display mode** look like\n",
    "\n",
    "The math is rendered differently depending on the mode, see the same equation as above as an inline expression: . To write math **inline**, you use single dollar signs like this $y=mx+b$. Everything between the dollar signs is rendered as mathematical notation. To create a **display expression**, use two dollar signs $$P(A\\mid B) = \\frac{P(B\\mid A)P(A)}{P(B)}$$\n",
    "<br>\n",
    "$$\n",
    "\\begin{matrix}\n",
    "a & b \\cr\n",
    "c & d\n",
    "\\end{matrix}\n",
    "\\quad\n",
    "\\begin{pmatrix}\n",
    "a & b \\\\\n",
    "c & d\n",
    "\\end{pmatrix}\n",
    "\\quad\n",
    "\\begin{bmatrix}\n",
    "a & b \\\\\n",
    "c & d\n",
    "\\end{bmatrix}\n",
    "\\quad\n",
    "\\begin{vmatrix}\n",
    "a & b \\\\\n",
    "c & d\n",
    "\\end{vmatrix}\n",
    "\\quad\n",
    "\\begin{Vmatrix}\n",
    "a & b \\\\\n",
    "c & d\n",
    "\\end{Vmatrix}\n",
    "$$\n",
    "\n",
    "$$\n",
    "\\begin{bmatrix}\n",
    " -1 & 5 & 0 \\\\ \n",
    " -1 & 0 & 5 \\\\ \n",
    " 4.2 & -1 & -1\n",
    "\\end{bmatrix} \\begin{bmatrix}\n",
    "1 \\\\\n",
    "x_1 \\\\\n",
    "x_2 \\\\\n",
    "\\end{bmatrix}\n",
    "$$"
   ]
  },
  {
   "cell_type": "markdown",
   "metadata": {},
   "source": []
  }
 ],
 "metadata": {
  "anaconda-cloud": {},
  "kernelspec": {
   "display_name": "Python [default]",
   "language": "python",
   "name": "python3"
  },
  "language_info": {
   "codemirror_mode": {
    "name": "ipython",
    "version": 3
   },
   "file_extension": ".py",
   "mimetype": "text/x-python",
   "name": "python",
   "nbconvert_exporter": "python",
   "pygments_lexer": "ipython3",
   "version": "3.5.2"
  }
 },
 "nbformat": 4,
 "nbformat_minor": 1
}
